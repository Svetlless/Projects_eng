{
 "cells": [
  {
   "cell_type": "markdown",
   "metadata": {},
   "source": [
    "## E-learning project"
   ]
  },
  {
   "cell_type": "markdown",
   "metadata": {},
   "source": [
    "This project was focused on EDA only, without any statistical hypotheses tested. Four datasets were given, with several questions to be answered based on the EDA."
   ]
  },
  {
   "cell_type": "code",
   "execution_count": 1,
   "metadata": {},
   "outputs": [],
   "source": [
    "import pandas as pd\n",
    "import numpy as np\n",
    "import requests\n",
    "import seaborn as sns\n",
    "import scipy.stats as ss\n",
    "from urllib.parse import urlencode \n",
    "import matplotlib.pyplot as plt"
   ]
  },
  {
   "cell_type": "code",
   "execution_count": 2,
   "metadata": {},
   "outputs": [],
   "source": [
    "# assessments.csv download\n",
    "base_url = 'https://cloud-api.yandex.net/v1/disk/public/resources/download?' \n",
    "public_key = 'https://disk.yandex.ru/d/iSVP1sZ7AdW7TQ' \n",
    "# obtain the url \n",
    "final_url = base_url + urlencode(dict(public_key=public_key)) \n",
    "response = requests.get(final_url) \n",
    "download_url = response.json()['href'] \n",
    "# create a dataframe \n",
    "download_response = requests.get(download_url) \n",
    "assessments = pd.read_csv(download_url, sep=',') "
   ]
  },
  {
   "cell_type": "markdown",
   "metadata": {},
   "source": [
    "**Assessments**\n",
    "Includes the information on the test grades. Typically, each subject in a semester includes a series of graded tests followed by a final examination test (exam).\n",
    "\n",
    "*code_module* — subject ID.\n",
    "\n",
    "*code_presentation* — semester ID.\n",
    "\n",
    "*id_assessment* — test ID.\n",
    "\n",
    "*assessment_type* — test type: professor assessment (TMA), computerized assessment (СМА), course exam (Exam).\n",
    "\n",
    "*date* — information about the final date of the test, calculated as the number of days from the start of the semester. The start date of the semester has the number 0 (zero)\n",
    "\n",
    "*weight* — the weight of the test in % of the course grade. Usually exams are considered separately and have a weight of 100%; the sum of all other grades is 100%."
   ]
  },
  {
   "cell_type": "code",
   "execution_count": 3,
   "metadata": {},
   "outputs": [],
   "source": [
    "# courses.csv download\n",
    "base_url = 'https://cloud-api.yandex.net/v1/disk/public/resources/download?' \n",
    "public_key = 'https://disk.yandex.ru/d/jmJxR8yhwCXlaw' \n",
    "# obtain the url \n",
    "final_url = base_url + urlencode(dict(public_key=public_key)) \n",
    "response = requests.get(final_url) \n",
    "download_url = response.json()['href'] \n",
    "# create a dataframe \n",
    "download_response = requests.get(download_url) \n",
    "courses = pd.read_csv(download_url, sep=',') "
   ]
  },
  {
   "cell_type": "markdown",
   "metadata": {},
   "source": [
    "**Courses**\n",
    "List of the subjects by semester\n",
    "\n",
    "*code_module* — subject ID.\n",
    "\n",
    "*code_presentation* — semester ID.\n",
    "\n",
    "*module_presentation_length* — semester length."
   ]
  },
  {
   "cell_type": "code",
   "execution_count": 4,
   "metadata": {},
   "outputs": [],
   "source": [
    "# studentAssessment.csv download\n",
    "base_url = 'https://cloud-api.yandex.net/v1/disk/public/resources/download?' \n",
    "public_key = 'https://disk.yandex.ru/d/DYd4M5b_8RETsA' \n",
    "# obtain the url \n",
    "final_url = base_url + urlencode(dict(public_key=public_key)) \n",
    "response = requests.get(final_url) \n",
    "download_url = response.json()['href'] \n",
    "# create a dataframe \n",
    "download_response = requests.get(download_url) \n",
    "st_assessment = pd.read_csv(download_url, sep=',') "
   ]
  },
  {
   "cell_type": "markdown",
   "metadata": {},
   "source": [
    "**st_assessment**\n",
    "Student test results. If a student does not submit a work for evaluation, the result is not recorded in the table.\n",
    "\n",
    "*id_assessment* — test ID.\n",
    "\n",
    "*id_student* — student ID.\n",
    "\n",
    "*date_submitted* — the date the student took the test, measured as the number of days from the start of the semester..\n",
    "\n",
    "*is_banked* — the fact that a test from the previous semester was re-credited (sometimes courses are re-credited for students returning from academic leave).\n",
    "\n",
    "*score* — the student's score on the test. The range is from 0 to 100. A score below 40 indicates a failure."
   ]
  },
  {
   "cell_type": "code",
   "execution_count": 5,
   "metadata": {},
   "outputs": [],
   "source": [
    "# studentRegistration.csv download\n",
    "base_url = 'https://cloud-api.yandex.net/v1/disk/public/resources/download?' \n",
    "public_key = 'https://disk.yandex.ru/d/lqHnH8NOZ458iw' \n",
    "# obtain the url \n",
    "final_url = base_url + urlencode(dict(public_key=public_key)) \n",
    "response = requests.get(final_url) \n",
    "download_url = response.json()['href'] \n",
    "# create a dataframe \n",
    "download_response = requests.get(download_url) \n",
    "registration = pd.read_csv(download_url, sep=',') "
   ]
  },
  {
   "cell_type": "code",
   "execution_count": 6,
   "metadata": {},
   "outputs": [
    {
     "name": "stdout",
     "output_type": "stream",
     "text": [
      "<class 'pandas.core.frame.DataFrame'>\n",
      "RangeIndex: 32593 entries, 0 to 32592\n",
      "Data columns (total 5 columns):\n",
      " #   Column               Non-Null Count  Dtype  \n",
      "---  ------               --------------  -----  \n",
      " 0   code_module          32593 non-null  object \n",
      " 1   code_presentation    32593 non-null  object \n",
      " 2   id_student           32593 non-null  int64  \n",
      " 3   date_registration    32548 non-null  float64\n",
      " 4   date_unregistration  10072 non-null  float64\n",
      "dtypes: float64(2), int64(1), object(2)\n",
      "memory usage: 1.2+ MB\n"
     ]
    }
   ],
   "source": [
    "registration.info()"
   ]
  },
  {
   "cell_type": "markdown",
   "metadata": {},
   "source": [
    "**registration**\n",
    "Information about the time a student registered for a course in a semester.\n",
    "\n",
    "*code_module* — subject ID.\n",
    "\n",
    "*code_presentation* — semester ID.\n",
    "\n",
    "*id_student* — student ID.\n",
    "\n",
    "*date_registration* — student registration date. This is the number of days measured from the start of the semester (e.g. a negative value of -30 means that the student registered for the course 30 days before it started).\n",
    "\n",
    "*date_unregistration* — the date the student unregistered from the course. For those students who have completed the course, this field is left empty."
   ]
  },
  {
   "cell_type": "code",
   "execution_count": 7,
   "metadata": {},
   "outputs": [],
   "source": [
    "# courses & assessments left join by code_module, code_presentation\n",
    "courses_and_assess= pd.merge(assessments, courses, how='left', on=['code_module','code_presentation'])"
   ]
  },
  {
   "cell_type": "code",
   "execution_count": 8,
   "metadata": {},
   "outputs": [
    {
     "name": "stdout",
     "output_type": "stream",
     "text": [
      "<class 'pandas.core.frame.DataFrame'>\n",
      "Int64Index: 206 entries, 0 to 205\n",
      "Data columns (total 7 columns):\n",
      " #   Column                      Non-Null Count  Dtype  \n",
      "---  ------                      --------------  -----  \n",
      " 0   code_module                 206 non-null    object \n",
      " 1   code_presentation           206 non-null    object \n",
      " 2   id_assessment               206 non-null    int64  \n",
      " 3   assessment_type             206 non-null    object \n",
      " 4   date                        195 non-null    float64\n",
      " 5   weight                      206 non-null    float64\n",
      " 6   module_presentation_length  206 non-null    int64  \n",
      "dtypes: float64(2), int64(2), object(3)\n",
      "memory usage: 12.9+ KB\n"
     ]
    }
   ],
   "source": [
    "courses_and_assess.info()"
   ]
  },
  {
   "cell_type": "code",
   "execution_count": 9,
   "metadata": {},
   "outputs": [],
   "source": [
    "# courses_and_assess & st_assessment left join by id_assessment  \n",
    "stud_courses_info= pd.merge(st_assessment, courses_and_assess, how='left', on=['id_assessment'])"
   ]
  },
  {
   "cell_type": "code",
   "execution_count": 10,
   "metadata": {},
   "outputs": [
    {
     "name": "stdout",
     "output_type": "stream",
     "text": [
      "<class 'pandas.core.frame.DataFrame'>\n",
      "Int64Index: 173912 entries, 0 to 173911\n",
      "Data columns (total 11 columns):\n",
      " #   Column                      Non-Null Count   Dtype  \n",
      "---  ------                      --------------   -----  \n",
      " 0   id_assessment               173912 non-null  int64  \n",
      " 1   id_student                  173912 non-null  int64  \n",
      " 2   date_submitted              173912 non-null  int64  \n",
      " 3   is_banked                   173912 non-null  int64  \n",
      " 4   score                       173739 non-null  float64\n",
      " 5   code_module                 173912 non-null  object \n",
      " 6   code_presentation           173912 non-null  object \n",
      " 7   assessment_type             173912 non-null  object \n",
      " 8   date                        171047 non-null  float64\n",
      " 9   weight                      173912 non-null  float64\n",
      " 10  module_presentation_length  173912 non-null  int64  \n",
      "dtypes: float64(3), int64(5), object(3)\n",
      "memory usage: 15.9+ MB\n"
     ]
    }
   ],
   "source": [
    "stud_courses_info.info()"
   ]
  },
  {
   "cell_type": "code",
   "execution_count": 11,
   "metadata": {},
   "outputs": [
    {
     "data": {
      "text/html": [
       "<div>\n",
       "<style scoped>\n",
       "    .dataframe tbody tr th:only-of-type {\n",
       "        vertical-align: middle;\n",
       "    }\n",
       "\n",
       "    .dataframe tbody tr th {\n",
       "        vertical-align: top;\n",
       "    }\n",
       "\n",
       "    .dataframe thead th {\n",
       "        text-align: right;\n",
       "    }\n",
       "</style>\n",
       "<table border=\"1\" class=\"dataframe\">\n",
       "  <thead>\n",
       "    <tr style=\"text-align: right;\">\n",
       "      <th></th>\n",
       "      <th>id_assessment</th>\n",
       "      <th>id_student</th>\n",
       "      <th>date_submitted</th>\n",
       "      <th>is_banked</th>\n",
       "      <th>score</th>\n",
       "      <th>code_module</th>\n",
       "      <th>code_presentation</th>\n",
       "      <th>assessment_type</th>\n",
       "      <th>date</th>\n",
       "      <th>weight</th>\n",
       "      <th>module_presentation_length</th>\n",
       "    </tr>\n",
       "  </thead>\n",
       "  <tbody>\n",
       "  </tbody>\n",
       "</table>\n",
       "</div>"
      ],
      "text/plain": [
       "Empty DataFrame\n",
       "Columns: [id_assessment, id_student, date_submitted, is_banked, score, code_module, code_presentation, assessment_type, date, weight, module_presentation_length]\n",
       "Index: []"
      ]
     },
     "execution_count": 11,
     "metadata": {},
     "output_type": "execute_result"
    }
   ],
   "source": [
    "#Checking if there are any NaN in the exam scores\n",
    "stud_courses_info[(stud_courses_info['assessment_type'] == 'Exam') & (stud_courses_info['score'].isnull())]\n",
    "#There are no missing values"
   ]
  },
  {
   "cell_type": "markdown",
   "metadata": {},
   "source": [
    "**Question 1** How many students successfully passed only one course? (Successful passing is passing the course on the exam).\n",
    "\n",
    "To solve the problem, conduct a preliminary data exploration and formulate what should be considered a course. You can justify your choice using the facts of passing exams, student distribution and a unique course identifier."
   ]
  },
  {
   "cell_type": "markdown",
   "metadata": {},
   "source": [
    "*Let's assume that a course is a unique combination of a subject (code_module) and a semester (code_presentation) for which the final assessment was carried out using an exam (assessment_type == 'Exam'), since it is specified in the task that successful completion is a credit for the course on an exam. Since for each unique subject there could be several exams in different semesters (code_presentation), let's check whether there were students who took the exam on the same subject in different semesters*"
   ]
  },
  {
   "cell_type": "code",
   "execution_count": 12,
   "metadata": {},
   "outputs": [
    {
     "data": {
      "text/html": [
       "<div>\n",
       "<style scoped>\n",
       "    .dataframe tbody tr th:only-of-type {\n",
       "        vertical-align: middle;\n",
       "    }\n",
       "\n",
       "    .dataframe tbody tr th {\n",
       "        vertical-align: top;\n",
       "    }\n",
       "\n",
       "    .dataframe thead th {\n",
       "        text-align: right;\n",
       "    }\n",
       "</style>\n",
       "<table border=\"1\" class=\"dataframe\">\n",
       "  <thead>\n",
       "    <tr style=\"text-align: right;\">\n",
       "      <th></th>\n",
       "      <th>id_student</th>\n",
       "      <th>code_module</th>\n",
       "      <th>code_presentation</th>\n",
       "    </tr>\n",
       "  </thead>\n",
       "  <tbody>\n",
       "    <tr>\n",
       "      <th>1341</th>\n",
       "      <td>540758</td>\n",
       "      <td>DDD</td>\n",
       "      <td>2</td>\n",
       "    </tr>\n",
       "    <tr>\n",
       "      <th>2232</th>\n",
       "      <td>593903</td>\n",
       "      <td>DDD</td>\n",
       "      <td>2</td>\n",
       "    </tr>\n",
       "    <tr>\n",
       "      <th>2479</th>\n",
       "      <td>605118</td>\n",
       "      <td>DDD</td>\n",
       "      <td>2</td>\n",
       "    </tr>\n",
       "  </tbody>\n",
       "</table>\n",
       "</div>"
      ],
      "text/plain": [
       "      id_student code_module  code_presentation\n",
       "1341      540758         DDD                  2\n",
       "2232      593903         DDD                  2\n",
       "2479      605118         DDD                  2"
      ]
     },
     "execution_count": 12,
     "metadata": {},
     "output_type": "execute_result"
    }
   ],
   "source": [
    "#to test this statement, let's check how many unique code_presentation are there\n",
    "#for each combination of a student who passed the exam with more than 40 points and a code_module\n",
    "unique_comb = stud_courses_info.query(\"score >= 40 & assessment_type == 'Exam'\")\\\n",
    ".groupby(['id_student', 'code_module'], as_index = False)\\\n",
    ".code_presentation.nunique()\n",
    "unique_comb.query(\"code_presentation > 1\")"
   ]
  },
  {
   "cell_type": "markdown",
   "metadata": {},
   "source": [
    "*There are 3 students. Let's take a closer look*"
   ]
  },
  {
   "cell_type": "code",
   "execution_count": 13,
   "metadata": {},
   "outputs": [
    {
     "data": {
      "text/html": [
       "<div>\n",
       "<style scoped>\n",
       "    .dataframe tbody tr th:only-of-type {\n",
       "        vertical-align: middle;\n",
       "    }\n",
       "\n",
       "    .dataframe tbody tr th {\n",
       "        vertical-align: top;\n",
       "    }\n",
       "\n",
       "    .dataframe thead th {\n",
       "        text-align: right;\n",
       "    }\n",
       "</style>\n",
       "<table border=\"1\" class=\"dataframe\">\n",
       "  <thead>\n",
       "    <tr style=\"text-align: right;\">\n",
       "      <th></th>\n",
       "      <th>id_assessment</th>\n",
       "      <th>id_student</th>\n",
       "      <th>date_submitted</th>\n",
       "      <th>is_banked</th>\n",
       "      <th>score</th>\n",
       "      <th>code_module</th>\n",
       "      <th>code_presentation</th>\n",
       "      <th>assessment_type</th>\n",
       "      <th>date</th>\n",
       "      <th>weight</th>\n",
       "      <th>module_presentation_length</th>\n",
       "    </tr>\n",
       "  </thead>\n",
       "  <tbody>\n",
       "    <tr>\n",
       "      <th>69983</th>\n",
       "      <td>25340</td>\n",
       "      <td>540758</td>\n",
       "      <td>229</td>\n",
       "      <td>0</td>\n",
       "      <td>40.0</td>\n",
       "      <td>DDD</td>\n",
       "      <td>2013B</td>\n",
       "      <td>Exam</td>\n",
       "      <td>240.0</td>\n",
       "      <td>100.0</td>\n",
       "      <td>240</td>\n",
       "    </tr>\n",
       "    <tr>\n",
       "      <th>87573</th>\n",
       "      <td>25361</td>\n",
       "      <td>540758</td>\n",
       "      <td>234</td>\n",
       "      <td>0</td>\n",
       "      <td>60.0</td>\n",
       "      <td>DDD</td>\n",
       "      <td>2014B</td>\n",
       "      <td>Exam</td>\n",
       "      <td>241.0</td>\n",
       "      <td>100.0</td>\n",
       "      <td>241</td>\n",
       "    </tr>\n",
       "    <tr>\n",
       "      <th>82731</th>\n",
       "      <td>25354</td>\n",
       "      <td>593903</td>\n",
       "      <td>241</td>\n",
       "      <td>0</td>\n",
       "      <td>49.0</td>\n",
       "      <td>DDD</td>\n",
       "      <td>2013J</td>\n",
       "      <td>Exam</td>\n",
       "      <td>261.0</td>\n",
       "      <td>100.0</td>\n",
       "      <td>261</td>\n",
       "    </tr>\n",
       "    <tr>\n",
       "      <th>95711</th>\n",
       "      <td>25368</td>\n",
       "      <td>593903</td>\n",
       "      <td>243</td>\n",
       "      <td>0</td>\n",
       "      <td>44.0</td>\n",
       "      <td>DDD</td>\n",
       "      <td>2014J</td>\n",
       "      <td>Exam</td>\n",
       "      <td>NaN</td>\n",
       "      <td>100.0</td>\n",
       "      <td>262</td>\n",
       "    </tr>\n",
       "    <tr>\n",
       "      <th>82844</th>\n",
       "      <td>25354</td>\n",
       "      <td>605118</td>\n",
       "      <td>237</td>\n",
       "      <td>0</td>\n",
       "      <td>42.0</td>\n",
       "      <td>DDD</td>\n",
       "      <td>2013J</td>\n",
       "      <td>Exam</td>\n",
       "      <td>261.0</td>\n",
       "      <td>100.0</td>\n",
       "      <td>261</td>\n",
       "    </tr>\n",
       "    <tr>\n",
       "      <th>95749</th>\n",
       "      <td>25368</td>\n",
       "      <td>605118</td>\n",
       "      <td>243</td>\n",
       "      <td>0</td>\n",
       "      <td>64.0</td>\n",
       "      <td>DDD</td>\n",
       "      <td>2014J</td>\n",
       "      <td>Exam</td>\n",
       "      <td>NaN</td>\n",
       "      <td>100.0</td>\n",
       "      <td>262</td>\n",
       "    </tr>\n",
       "  </tbody>\n",
       "</table>\n",
       "</div>"
      ],
      "text/plain": [
       "       id_assessment  id_student  date_submitted  is_banked  score  \\\n",
       "69983          25340      540758             229          0   40.0   \n",
       "87573          25361      540758             234          0   60.0   \n",
       "82731          25354      593903             241          0   49.0   \n",
       "95711          25368      593903             243          0   44.0   \n",
       "82844          25354      605118             237          0   42.0   \n",
       "95749          25368      605118             243          0   64.0   \n",
       "\n",
       "      code_module code_presentation assessment_type   date  weight  \\\n",
       "69983         DDD             2013B            Exam  240.0   100.0   \n",
       "87573         DDD             2014B            Exam  241.0   100.0   \n",
       "82731         DDD             2013J            Exam  261.0   100.0   \n",
       "95711         DDD             2014J            Exam    NaN   100.0   \n",
       "82844         DDD             2013J            Exam  261.0   100.0   \n",
       "95749         DDD             2014J            Exam    NaN   100.0   \n",
       "\n",
       "       module_presentation_length  \n",
       "69983                         240  \n",
       "87573                         241  \n",
       "82731                         261  \n",
       "95711                         262  \n",
       "82844                         261  \n",
       "95749                         262  "
      ]
     },
     "execution_count": 13,
     "metadata": {},
     "output_type": "execute_result"
    }
   ],
   "source": [
    "stud_courses_info.query(\"(id_student == 540758 | id_student == 593903 | id_student == 605118) & (assessment_type == 'Exam')\")\\\n",
    ".head(10).sort_values('id_student')"
   ]
  },
  {
   "cell_type": "code",
   "execution_count": 14,
   "metadata": {},
   "outputs": [
    {
     "data": {
      "text/html": [
       "<div>\n",
       "<style scoped>\n",
       "    .dataframe tbody tr th:only-of-type {\n",
       "        vertical-align: middle;\n",
       "    }\n",
       "\n",
       "    .dataframe tbody tr th {\n",
       "        vertical-align: top;\n",
       "    }\n",
       "\n",
       "    .dataframe thead th {\n",
       "        text-align: right;\n",
       "    }\n",
       "</style>\n",
       "<table border=\"1\" class=\"dataframe\">\n",
       "  <thead>\n",
       "    <tr style=\"text-align: right;\">\n",
       "      <th></th>\n",
       "      <th>code_module</th>\n",
       "      <th>code_presentation</th>\n",
       "      <th>id_student</th>\n",
       "      <th>date_registration</th>\n",
       "      <th>date_unregistration</th>\n",
       "    </tr>\n",
       "  </thead>\n",
       "  <tbody>\n",
       "    <tr>\n",
       "      <th>13857</th>\n",
       "      <td>DDD</td>\n",
       "      <td>2013B</td>\n",
       "      <td>540758</td>\n",
       "      <td>-74.0</td>\n",
       "      <td>NaN</td>\n",
       "    </tr>\n",
       "    <tr>\n",
       "      <th>16693</th>\n",
       "      <td>DDD</td>\n",
       "      <td>2014B</td>\n",
       "      <td>540758</td>\n",
       "      <td>-25.0</td>\n",
       "      <td>NaN</td>\n",
       "    </tr>\n",
       "    <tr>\n",
       "      <th>15768</th>\n",
       "      <td>DDD</td>\n",
       "      <td>2013J</td>\n",
       "      <td>593903</td>\n",
       "      <td>-98.0</td>\n",
       "      <td>NaN</td>\n",
       "    </tr>\n",
       "    <tr>\n",
       "      <th>18191</th>\n",
       "      <td>DDD</td>\n",
       "      <td>2014J</td>\n",
       "      <td>593903</td>\n",
       "      <td>13.0</td>\n",
       "      <td>NaN</td>\n",
       "    </tr>\n",
       "    <tr>\n",
       "      <th>15985</th>\n",
       "      <td>DDD</td>\n",
       "      <td>2013J</td>\n",
       "      <td>605118</td>\n",
       "      <td>-31.0</td>\n",
       "      <td>NaN</td>\n",
       "    </tr>\n",
       "    <tr>\n",
       "      <th>18253</th>\n",
       "      <td>DDD</td>\n",
       "      <td>2014J</td>\n",
       "      <td>605118</td>\n",
       "      <td>-3.0</td>\n",
       "      <td>NaN</td>\n",
       "    </tr>\n",
       "  </tbody>\n",
       "</table>\n",
       "</div>"
      ],
      "text/plain": [
       "      code_module code_presentation  id_student  date_registration  \\\n",
       "13857         DDD             2013B      540758              -74.0   \n",
       "16693         DDD             2014B      540758              -25.0   \n",
       "15768         DDD             2013J      593903              -98.0   \n",
       "18191         DDD             2014J      593903               13.0   \n",
       "15985         DDD             2013J      605118              -31.0   \n",
       "18253         DDD             2014J      605118               -3.0   \n",
       "\n",
       "       date_unregistration  \n",
       "13857                  NaN  \n",
       "16693                  NaN  \n",
       "15768                  NaN  \n",
       "18191                  NaN  \n",
       "15985                  NaN  \n",
       "18253                  NaN  "
      ]
     },
     "execution_count": 14,
     "metadata": {},
     "output_type": "execute_result"
    }
   ],
   "source": [
    "registration.query('id_student == 540758 | id_student == 593903 | id_student == 605118').head(50).sort_values('id_student')"
   ]
  },
  {
   "cell_type": "markdown",
   "metadata": {},
   "source": [
    "*We can see that the students registered separately for each semester, and there was no unregistration. Let's take a closer look at the DDD course. Were there any students who mastered it in one semester?*"
   ]
  },
  {
   "cell_type": "code",
   "execution_count": 15,
   "metadata": {},
   "outputs": [
    {
     "data": {
      "text/html": [
       "<div>\n",
       "<style scoped>\n",
       "    .dataframe tbody tr th:only-of-type {\n",
       "        vertical-align: middle;\n",
       "    }\n",
       "\n",
       "    .dataframe tbody tr th {\n",
       "        vertical-align: top;\n",
       "    }\n",
       "\n",
       "    .dataframe thead th {\n",
       "        text-align: right;\n",
       "    }\n",
       "</style>\n",
       "<table border=\"1\" class=\"dataframe\">\n",
       "  <thead>\n",
       "    <tr style=\"text-align: right;\">\n",
       "      <th></th>\n",
       "      <th>id_student</th>\n",
       "      <th>id_assessment</th>\n",
       "    </tr>\n",
       "  </thead>\n",
       "  <tbody>\n",
       "    <tr>\n",
       "      <th>0</th>\n",
       "      <td>24213</td>\n",
       "      <td>1</td>\n",
       "    </tr>\n",
       "    <tr>\n",
       "      <th>1</th>\n",
       "      <td>28046</td>\n",
       "      <td>1</td>\n",
       "    </tr>\n",
       "    <tr>\n",
       "      <th>2</th>\n",
       "      <td>29411</td>\n",
       "      <td>1</td>\n",
       "    </tr>\n",
       "    <tr>\n",
       "      <th>3</th>\n",
       "      <td>31173</td>\n",
       "      <td>1</td>\n",
       "    </tr>\n",
       "    <tr>\n",
       "      <th>4</th>\n",
       "      <td>33796</td>\n",
       "      <td>1</td>\n",
       "    </tr>\n",
       "    <tr>\n",
       "      <th>...</th>\n",
       "      <td>...</td>\n",
       "      <td>...</td>\n",
       "    </tr>\n",
       "    <tr>\n",
       "      <th>3035</th>\n",
       "      <td>2693243</td>\n",
       "      <td>1</td>\n",
       "    </tr>\n",
       "    <tr>\n",
       "      <th>3036</th>\n",
       "      <td>2694886</td>\n",
       "      <td>1</td>\n",
       "    </tr>\n",
       "    <tr>\n",
       "      <th>3037</th>\n",
       "      <td>2694933</td>\n",
       "      <td>1</td>\n",
       "    </tr>\n",
       "    <tr>\n",
       "      <th>3038</th>\n",
       "      <td>2695608</td>\n",
       "      <td>1</td>\n",
       "    </tr>\n",
       "    <tr>\n",
       "      <th>3039</th>\n",
       "      <td>2698251</td>\n",
       "      <td>1</td>\n",
       "    </tr>\n",
       "  </tbody>\n",
       "</table>\n",
       "<p>3036 rows × 2 columns</p>\n",
       "</div>"
      ],
      "text/plain": [
       "      id_student  id_assessment\n",
       "0          24213              1\n",
       "1          28046              1\n",
       "2          29411              1\n",
       "3          31173              1\n",
       "4          33796              1\n",
       "...          ...            ...\n",
       "3035     2693243              1\n",
       "3036     2694886              1\n",
       "3037     2694933              1\n",
       "3038     2695608              1\n",
       "3039     2698251              1\n",
       "\n",
       "[3036 rows x 2 columns]"
      ]
     },
     "execution_count": 15,
     "metadata": {},
     "output_type": "execute_result"
    }
   ],
   "source": [
    "stud_courses_info.query(\"code_module == 'DDD' & assessment_type == 'Exam'\")\\\n",
    ".groupby('id_student', as_index = False).agg({'id_assessment':'count'}).query('id_assessment== 1')"
   ]
  },
  {
   "cell_type": "markdown",
   "metadata": {},
   "source": [
    "*There are 3036 such students. Therefore, passing the course in 2 semesters was not a common practice. It could be a result of a reassessment in case of a low but acceptable grade, or an another course. Given the lack of information about the learning process, let’s assume that we can consider a unique combination of code_module and code_presentation to be a course*"
   ]
  },
  {
   "cell_type": "code",
   "execution_count": 16,
   "metadata": {},
   "outputs": [
    {
     "data": {
      "text/plain": [
       "634878     1\n",
       "647937     1\n",
       "554484     1\n",
       "2087698    1\n",
       "631569     1\n",
       "          ..\n",
       "642443     1\n",
       "560243     1\n",
       "652680     1\n",
       "646071     1\n",
       "573440     1\n",
       "Name: id_student, Length: 3802, dtype: int64"
      ]
     },
     "execution_count": 16,
     "metadata": {},
     "output_type": "execute_result"
    }
   ],
   "source": [
    "#Filtering the records with the grade type \"exam\" and a score of 40 or higher to keep only those who passed the test\n",
    "exams = stud_courses_info.query(\"score >= 40 & assessment_type == 'Exam'\")\n",
    "#Grouping by id_student and counting the number of unique subjects and semesters for each student\n",
    "#Accordingly, a student has passed only one course if he has a unique code_module = 1\n",
    "#and a unique code_presentation = 1.\n",
    "exams.groupby('id_student', as_index = False).agg({'code_module': 'nunique', 'code_presentation': 'nunique'})\\\n",
    ".query('code_module == 1 & code_presentation == 1').id_student.value_counts()"
   ]
  },
  {
   "cell_type": "markdown",
   "metadata": {},
   "source": [
    "**Answer to the question 1**: 3802 students successfully passed only one course"
   ]
  },
  {
   "cell_type": "markdown",
   "metadata": {},
   "source": [
    "**Question 2** Indentify the hardest and the easiest exam: Find the courses and exams within a course that have the lowest and highest completion rates.\n",
    "*completion rate = number of successful exams / number of total attempts to pass the exam"
   ]
  },
  {
   "cell_type": "code",
   "execution_count": 17,
   "metadata": {},
   "outputs": [],
   "source": [
    "#I will select exams, group by code_module, code_presentation and id_assessment (to identify the exam within the course)\n",
    "#Next I will calculate 2 new variables: the total number of exams and the number of passed exams (40 points and above)\n",
    "exams_stat = stud_courses_info.query(\"assessment_type == 'Exam'\")\\\n",
    ".groupby(['code_module', 'code_presentation', 'id_assessment'], as_index = False)\\\n",
    ".agg(total_exams =('date_submitted','count'), passed_exams = ('score', lambda x: (x >= 40).sum()))\n"
   ]
  },
  {
   "cell_type": "code",
   "execution_count": 18,
   "metadata": {},
   "outputs": [],
   "source": [
    "#Creating new pass_rate variable\n",
    "exams_stat['pass_rate'] = exams_stat.passed_exams / exams_stat.total_exams"
   ]
  },
  {
   "cell_type": "code",
   "execution_count": 19,
   "metadata": {},
   "outputs": [
    {
     "data": {
      "text/html": [
       "<div>\n",
       "<style scoped>\n",
       "    .dataframe tbody tr th:only-of-type {\n",
       "        vertical-align: middle;\n",
       "    }\n",
       "\n",
       "    .dataframe tbody tr th {\n",
       "        vertical-align: top;\n",
       "    }\n",
       "\n",
       "    .dataframe thead th {\n",
       "        text-align: right;\n",
       "    }\n",
       "</style>\n",
       "<table border=\"1\" class=\"dataframe\">\n",
       "  <thead>\n",
       "    <tr style=\"text-align: right;\">\n",
       "      <th></th>\n",
       "      <th>code_module</th>\n",
       "      <th>code_presentation</th>\n",
       "      <th>id_assessment</th>\n",
       "      <th>total_exams</th>\n",
       "      <th>passed_exams</th>\n",
       "      <th>pass_rate</th>\n",
       "    </tr>\n",
       "  </thead>\n",
       "  <tbody>\n",
       "    <tr>\n",
       "      <th>2</th>\n",
       "      <td>DDD</td>\n",
       "      <td>2013B</td>\n",
       "      <td>25340</td>\n",
       "      <td>602</td>\n",
       "      <td>504.0</td>\n",
       "      <td>0.837209</td>\n",
       "    </tr>\n",
       "    <tr>\n",
       "      <th>1</th>\n",
       "      <td>CCC</td>\n",
       "      <td>2014J</td>\n",
       "      <td>24299</td>\n",
       "      <td>1168</td>\n",
       "      <td>1019.0</td>\n",
       "      <td>0.872432</td>\n",
       "    </tr>\n",
       "    <tr>\n",
       "      <th>5</th>\n",
       "      <td>DDD</td>\n",
       "      <td>2014J</td>\n",
       "      <td>25368</td>\n",
       "      <td>950</td>\n",
       "      <td>842.0</td>\n",
       "      <td>0.886316</td>\n",
       "    </tr>\n",
       "    <tr>\n",
       "      <th>0</th>\n",
       "      <td>CCC</td>\n",
       "      <td>2014B</td>\n",
       "      <td>24290</td>\n",
       "      <td>747</td>\n",
       "      <td>664.0</td>\n",
       "      <td>0.888889</td>\n",
       "    </tr>\n",
       "    <tr>\n",
       "      <th>3</th>\n",
       "      <td>DDD</td>\n",
       "      <td>2013J</td>\n",
       "      <td>25354</td>\n",
       "      <td>968</td>\n",
       "      <td>878.0</td>\n",
       "      <td>0.907025</td>\n",
       "    </tr>\n",
       "    <tr>\n",
       "      <th>4</th>\n",
       "      <td>DDD</td>\n",
       "      <td>2014B</td>\n",
       "      <td>25361</td>\n",
       "      <td>524</td>\n",
       "      <td>485.0</td>\n",
       "      <td>0.925573</td>\n",
       "    </tr>\n",
       "  </tbody>\n",
       "</table>\n",
       "</div>"
      ],
      "text/plain": [
       "  code_module code_presentation  id_assessment  total_exams  passed_exams  \\\n",
       "2         DDD             2013B          25340          602         504.0   \n",
       "1         CCC             2014J          24299         1168        1019.0   \n",
       "5         DDD             2014J          25368          950         842.0   \n",
       "0         CCC             2014B          24290          747         664.0   \n",
       "3         DDD             2013J          25354          968         878.0   \n",
       "4         DDD             2014B          25361          524         485.0   \n",
       "\n",
       "   pass_rate  \n",
       "2   0.837209  \n",
       "1   0.872432  \n",
       "5   0.886316  \n",
       "0   0.888889  \n",
       "3   0.907025  \n",
       "4   0.925573  "
      ]
     },
     "execution_count": 19,
     "metadata": {},
     "output_type": "execute_result"
    }
   ],
   "source": [
    "exams_stat.sort_values('pass_rate', ascending = True)"
   ]
  },
  {
   "cell_type": "markdown",
   "metadata": {},
   "source": [
    "**Answer to the question 2** The course with the lowest completion rate is DDD in semester 2013B (exam 25340), the course with the highest completion rate is DDD in semester 2014B (exam 25361)"
   ]
  },
  {
   "cell_type": "markdown",
   "metadata": {},
   "source": [
    "**Question 3** For each subject, calculate the average time for passing exams (by passing we mean the last successful completion of the exam by a student)."
   ]
  },
  {
   "cell_type": "code",
   "execution_count": 20,
   "metadata": {},
   "outputs": [
    {
     "data": {
      "text/plain": [
       "array(['CCC', 'DDD'], dtype=object)"
      ]
     },
     "execution_count": 20,
     "metadata": {},
     "output_type": "execute_result"
    }
   ],
   "source": [
    "#The assignment refers to the subject, not the course.\n",
    "#We will assume that we are talking about the variable code_module, so we will not take the semester into account\n",
    "#I will use filtered exams data (exams passed with more than 40 points)\n",
    "#Let's check which measure of central tendency we can use: the mean or the median. Let's look at the distribution\n",
    "#I'll group by subject and student to find the largest date_submitted for each student, according to the task\n",
    "exams_mean = exams.groupby(['code_module', 'id_student'], as_index = False).agg(last_submission_date=('date_submitted', 'max'))\n",
    "#Deleting id_student for convenience\n",
    "exams_mean = exams_mean.drop(columns = 'id_student')\n",
    "exams_mean.code_module.unique()"
   ]
  },
  {
   "cell_type": "code",
   "execution_count": 21,
   "metadata": {},
   "outputs": [
    {
     "data": {
      "text/plain": [
       "<matplotlib.axes._subplots.AxesSubplot at 0x7fe5f559e6d8>"
      ]
     },
     "execution_count": 21,
     "metadata": {},
     "output_type": "execute_result"
    },
    {
     "data": {
      "image/png": "[encoded data removed]",
      "text/plain": [
       "<Figure size 432x288 with 1 Axes>"
      ]
     },
     "metadata": {
      "needs_background": "light"
     },
     "output_type": "display_data"
    }
   ],
   "source": [
    "#Let's look at the distribution for CCC\n",
    "sns.histplot(data = exams_mean.query(\"code_module =='CCC'\").last_submission_date, bins = 50)"
   ]
  },
  {
   "cell_type": "code",
   "execution_count": 22,
   "metadata": {},
   "outputs": [
    {
     "data": {
      "text/plain": [
       "NormaltestResult(statistic=9.683275690036737, pvalue=0.00789411412219717)"
      ]
     },
     "execution_count": 22,
     "metadata": {},
     "output_type": "execute_result"
    }
   ],
   "source": [
    "#The graph shows that the distribution differs from the normal one\n",
    "#However, here and below I will perform a formal check for normal distribution\n",
    "ss.normaltest(exams_mean.query(\"code_module =='CCC'\").last_submission_date)"
   ]
  },
  {
   "cell_type": "code",
   "execution_count": 23,
   "metadata": {},
   "outputs": [
    {
     "data": {
      "text/plain": [
       "<matplotlib.axes._subplots.AxesSubplot at 0x7fe5f544f6a0>"
      ]
     },
     "execution_count": 23,
     "metadata": {},
     "output_type": "execute_result"
    },
    {
     "data": {
      "image/png": "[encoded data removed]",
      "text/plain": [
       "<Figure size 432x288 with 1 Axes>"
      ]
     },
     "metadata": {
      "needs_background": "light"
     },
     "output_type": "display_data"
    }
   ],
   "source": [
    "sns.histplot(data = exams_mean.query(\"code_module =='DDD'\").last_submission_date, bins = 50)"
   ]
  },
  {
   "cell_type": "code",
   "execution_count": 24,
   "metadata": {},
   "outputs": [
    {
     "data": {
      "text/plain": [
       "NormaltestResult(statistic=46.66942887890582, pvalue=7.342809855565892e-11)"
      ]
     },
     "execution_count": 24,
     "metadata": {},
     "output_type": "execute_result"
    }
   ],
   "source": [
    "ss.normaltest(exams_mean.query(\"code_module =='DDD'\").last_submission_date)"
   ]
  },
  {
   "cell_type": "code",
   "execution_count": 25,
   "metadata": {},
   "outputs": [
    {
     "data": {
      "text/html": [
       "<div>\n",
       "<style scoped>\n",
       "    .dataframe tbody tr th:only-of-type {\n",
       "        vertical-align: middle;\n",
       "    }\n",
       "\n",
       "    .dataframe tbody tr th {\n",
       "        vertical-align: top;\n",
       "    }\n",
       "\n",
       "    .dataframe thead th {\n",
       "        text-align: right;\n",
       "    }\n",
       "</style>\n",
       "<table border=\"1\" class=\"dataframe\">\n",
       "  <thead>\n",
       "    <tr style=\"text-align: right;\">\n",
       "      <th></th>\n",
       "      <th>code_module</th>\n",
       "      <th>median_days</th>\n",
       "    </tr>\n",
       "  </thead>\n",
       "  <tbody>\n",
       "    <tr>\n",
       "      <th>0</th>\n",
       "      <td>CCC</td>\n",
       "      <td>244</td>\n",
       "    </tr>\n",
       "    <tr>\n",
       "      <th>1</th>\n",
       "      <td>DDD</td>\n",
       "      <td>237</td>\n",
       "    </tr>\n",
       "  </tbody>\n",
       "</table>\n",
       "</div>"
      ],
      "text/plain": [
       "  code_module  median_days\n",
       "0         CCC          244\n",
       "1         DDD          237"
      ]
     },
     "execution_count": 25,
     "metadata": {},
     "output_type": "execute_result"
    }
   ],
   "source": [
    "#The data don't follow normal distribution, which is expected for this type of data (usually the exam date is set up)\n",
    "#So let's group by code_module, calculate the median, rather than mean and sd\n",
    "\n",
    "median_time = exams_mean.groupby('code_module', as_index=False)\\\n",
    ".agg(median_days=('last_submission_date', 'median'))\n",
    "median_time ['median_days'] =  median_time.median_days.round(2)\n",
    "median_time"
   ]
  },
  {
   "cell_type": "markdown",
   "metadata": {},
   "source": [
    "**Answer to the question 3** The median time of the CCC exam completion is 244 days, and for the DDD subject it is 237 days."
   ]
  },
  {
   "cell_type": "markdown",
   "metadata": {},
   "source": [
    "**Question 4** Identify the most popular subjects (TOP-3) by the number of registrations, and the subjects with the highest withdrawal (TOP-3)"
   ]
  },
  {
   "cell_type": "code",
   "execution_count": 26,
   "metadata": {},
   "outputs": [
    {
     "data": {
      "text/html": [
       "<div>\n",
       "<style scoped>\n",
       "    .dataframe tbody tr th:only-of-type {\n",
       "        vertical-align: middle;\n",
       "    }\n",
       "\n",
       "    .dataframe tbody tr th {\n",
       "        vertical-align: top;\n",
       "    }\n",
       "\n",
       "    .dataframe thead th {\n",
       "        text-align: right;\n",
       "    }\n",
       "</style>\n",
       "<table border=\"1\" class=\"dataframe\">\n",
       "  <thead>\n",
       "    <tr style=\"text-align: right;\">\n",
       "      <th></th>\n",
       "      <th>code_module</th>\n",
       "      <th>registrations</th>\n",
       "      <th>unregistrations</th>\n",
       "    </tr>\n",
       "  </thead>\n",
       "  <tbody>\n",
       "    <tr>\n",
       "      <th>1</th>\n",
       "      <td>BBB</td>\n",
       "      <td>7900</td>\n",
       "      <td>2377</td>\n",
       "    </tr>\n",
       "    <tr>\n",
       "      <th>5</th>\n",
       "      <td>FFF</td>\n",
       "      <td>7751</td>\n",
       "      <td>2380</td>\n",
       "    </tr>\n",
       "    <tr>\n",
       "      <th>3</th>\n",
       "      <td>DDD</td>\n",
       "      <td>6257</td>\n",
       "      <td>2235</td>\n",
       "    </tr>\n",
       "    <tr>\n",
       "      <th>2</th>\n",
       "      <td>CCC</td>\n",
       "      <td>4426</td>\n",
       "      <td>1947</td>\n",
       "    </tr>\n",
       "    <tr>\n",
       "      <th>4</th>\n",
       "      <td>EEE</td>\n",
       "      <td>2932</td>\n",
       "      <td>718</td>\n",
       "    </tr>\n",
       "    <tr>\n",
       "      <th>6</th>\n",
       "      <td>GGG</td>\n",
       "      <td>2534</td>\n",
       "      <td>289</td>\n",
       "    </tr>\n",
       "    <tr>\n",
       "      <th>0</th>\n",
       "      <td>AAA</td>\n",
       "      <td>748</td>\n",
       "      <td>126</td>\n",
       "    </tr>\n",
       "  </tbody>\n",
       "</table>\n",
       "</div>"
      ],
      "text/plain": [
       "  code_module  registrations  unregistrations\n",
       "1         BBB           7900             2377\n",
       "5         FFF           7751             2380\n",
       "3         DDD           6257             2235\n",
       "2         CCC           4426             1947\n",
       "4         EEE           2932              718\n",
       "6         GGG           2534              289\n",
       "0         AAA            748              126"
      ]
     },
     "execution_count": 26,
     "metadata": {},
     "output_type": "execute_result"
    }
   ],
   "source": [
    "#I will use the registration dataset\n",
    "#Since there are no additional conditions, I will group by code_module only (we take into account subjects, not courses)\n",
    "#The same students could register for the same subject repeatedly in different semesters\n",
    "#The task does not specify that the popularity indicator should be calculated based on unique id only\n",
    "#Also, I assume that the same students registering for a subject in different semesters do not alter popularity rates\n",
    "registrations_stat = registration.groupby('code_module', as_index = False)\\\n",
    ".agg(registrations = ('date_registration','count'), unregistrations = ('date_unregistration','count')).sort_values('registrations', ascending = False)\n",
    "registrations_stat"
   ]
  },
  {
   "cell_type": "code",
   "execution_count": 27,
   "metadata": {},
   "outputs": [],
   "source": [
    "top_registrations = registrations_stat.sort_values('registrations', ascending=False).head(3)\n",
    "top_unregistrations = registrations_stat.sort_values('unregistrations', ascending=False).head(3)"
   ]
  },
  {
   "cell_type": "code",
   "execution_count": 31,
   "metadata": {},
   "outputs": [],
   "source": [
    "output = f\"\"\"Top-3 subjects by registrations:\n",
    "{top_registrations[['code_module', 'registrations']].to_string(index=False, header=False, justify='left', line_width=None)}\n",
    "\n",
    "Top-3 subjects by withdrawal:\n",
    "{top_unregistrations[['code_module', 'unregistrations']].to_string(index=False, header=False, justify='left', line_width=None)}\"\"\"\n"
   ]
  },
  {
   "cell_type": "markdown",
   "metadata": {},
   "source": [
    "**Answer to the question 4**"
   ]
  },
  {
   "cell_type": "code",
   "execution_count": 32,
   "metadata": {},
   "outputs": [
    {
     "name": "stdout",
     "output_type": "stream",
     "text": [
      "Top-3 subjects by registrations:\n",
      " BBB  7900\n",
      " FFF  7751\n",
      " DDD  6257\n",
      "\n",
      "Top-3 subjects by withdrawal:\n",
      " FFF  2380\n",
      " BBB  2377\n",
      " DDD  2235\n"
     ]
    }
   ],
   "source": [
    "print(output)"
   ]
  },
  {
   "cell_type": "markdown",
   "metadata": {},
   "source": [
    "**Question 5** Using pandas, identify the semester with the lowest course completion rates and the longest average course completion times from the beginning of 2013 to the end of 2014.\n",
    "\n",
    "From step 2: completion rate = number of exams passed / number of total exam attempts"
   ]
  },
  {
   "cell_type": "code",
   "execution_count": 30,
   "metadata": {},
   "outputs": [
    {
     "data": {
      "text/plain": [
       "array(['2013J', '2014J', '2013B', '2014B'], dtype=object)"
      ]
     },
     "execution_count": 30,
     "metadata": {},
     "output_type": "execute_result"
    }
   ],
   "source": [
    "#Let's see how to select the necessary dates. Let's look at the data on the semesters\n",
    "stud_courses_info.code_presentation.unique()\n",
    "#Probably, the data contains records for the required dates only"
   ]
  },
  {
   "cell_type": "code",
   "execution_count": 31,
   "metadata": {},
   "outputs": [
    {
     "data": {
      "text/html": [
       "<div>\n",
       "<style scoped>\n",
       "    .dataframe tbody tr th:only-of-type {\n",
       "        vertical-align: middle;\n",
       "    }\n",
       "\n",
       "    .dataframe tbody tr th {\n",
       "        vertical-align: top;\n",
       "    }\n",
       "\n",
       "    .dataframe thead th {\n",
       "        text-align: right;\n",
       "    }\n",
       "</style>\n",
       "<table border=\"1\" class=\"dataframe\">\n",
       "  <thead>\n",
       "    <tr style=\"text-align: right;\">\n",
       "      <th></th>\n",
       "      <th>code_presentation</th>\n",
       "      <th>total_exams</th>\n",
       "      <th>passed_exams</th>\n",
       "      <th>pass_rate</th>\n",
       "    </tr>\n",
       "  </thead>\n",
       "  <tbody>\n",
       "    <tr>\n",
       "      <th>0</th>\n",
       "      <td>2013B</td>\n",
       "      <td>602</td>\n",
       "      <td>504.0</td>\n",
       "      <td>0.84</td>\n",
       "    </tr>\n",
       "    <tr>\n",
       "      <th>3</th>\n",
       "      <td>2014J</td>\n",
       "      <td>2118</td>\n",
       "      <td>1861.0</td>\n",
       "      <td>0.88</td>\n",
       "    </tr>\n",
       "    <tr>\n",
       "      <th>2</th>\n",
       "      <td>2014B</td>\n",
       "      <td>1271</td>\n",
       "      <td>1149.0</td>\n",
       "      <td>0.90</td>\n",
       "    </tr>\n",
       "    <tr>\n",
       "      <th>1</th>\n",
       "      <td>2013J</td>\n",
       "      <td>968</td>\n",
       "      <td>878.0</td>\n",
       "      <td>0.91</td>\n",
       "    </tr>\n",
       "  </tbody>\n",
       "</table>\n",
       "</div>"
      ],
      "text/plain": [
       "  code_presentation  total_exams  passed_exams  pass_rate\n",
       "0             2013B          602         504.0       0.84\n",
       "3             2014J         2118        1861.0       0.88\n",
       "2             2014B         1271        1149.0       0.90\n",
       "1             2013J          968         878.0       0.91"
      ]
     },
     "execution_count": 31,
     "metadata": {},
     "output_type": "execute_result"
    }
   ],
   "source": [
    "#We are interested in semesters, so I don't not group by code_module\n",
    "#To evaluate completion, I will select exams\n",
    "semester_stat = stud_courses_info.query(\"assessment_type == 'Exam'\").groupby(['code_presentation'], as_index = False)\\\n",
    ".agg(total_exams =('date_submitted','count'), passed_exams = ('score', lambda x: (x >= 40).sum()))\n",
    "semester_stat['pass_rate'] = semester_stat.passed_exams / semester_stat.total_exams\n",
    "semester_stat['pass_rate']  = semester_stat.pass_rate.round(2)\n",
    "#Let's identify the semester with the lowest completion rate\n",
    "semester_stat.sort_values('pass_rate')"
   ]
  },
  {
   "cell_type": "code",
   "execution_count": 32,
   "metadata": {},
   "outputs": [
    {
     "data": {
      "text/plain": [
       "array(['2013B', '2013J', '2014B', '2014J'], dtype=object)"
      ]
     },
     "execution_count": 32,
     "metadata": {},
     "output_type": "execute_result"
    }
   ],
   "source": [
    "#Let's identify the semester with the longest course submission time\n",
    "#I will use the filtered exams data,\n",
    "#group by semester, subject, and student to find the largest date_submitted for each student, according to the task\n",
    "semester_mean = exams.groupby(['code_presentation', 'code_module', 'id_student'], as_index = False)\\\n",
    ".agg(last_submission_date=('date_submitted', 'max'))\n",
    "#Removing the id_student column for convenience\n",
    "semester_mean = semester_mean.drop(columns = 'id_student')\n",
    "semester_mean.code_presentation.unique()"
   ]
  },
  {
   "cell_type": "code",
   "execution_count": 33,
   "metadata": {},
   "outputs": [
    {
     "data": {
      "text/plain": [
       "<matplotlib.axes._subplots.AxesSubplot at 0x7f95b16fb208>"
      ]
     },
     "execution_count": 33,
     "metadata": {},
     "output_type": "execute_result"
    },
    {
     "data": {
      "image/png": "[encoded data removed]",
      "text/plain": [
       "<Figure size 432x288 with 1 Axes>"
      ]
     },
     "metadata": {
      "needs_background": "light"
     },
     "output_type": "display_data"
    }
   ],
   "source": [
    "#Let's check what measure of central tendency we will use: mean or median. Let's look at the distribution\n",
    "#the distribution for 2013B\n",
    "sns.histplot(data = semester_mean.query(\"code_presentation =='2013B'\").last_submission_date, bins = 50)"
   ]
  },
  {
   "cell_type": "code",
   "execution_count": 34,
   "metadata": {},
   "outputs": [
    {
     "data": {
      "text/plain": [
       "NormaltestResult(statistic=460.8453171249272, pvalue=8.486153455039891e-101)"
      ]
     },
     "execution_count": 34,
     "metadata": {},
     "output_type": "execute_result"
    }
   ],
   "source": [
    "ss.normaltest(semester_mean.query(\"code_presentation =='2013B'\").last_submission_date)"
   ]
  },
  {
   "cell_type": "code",
   "execution_count": 35,
   "metadata": {},
   "outputs": [
    {
     "data": {
      "text/plain": [
       "<matplotlib.axes._subplots.AxesSubplot at 0x7f95b104dda0>"
      ]
     },
     "execution_count": 35,
     "metadata": {},
     "output_type": "execute_result"
    },
    {
     "data": {
      "image/png": "[encoded data removed]",
      "text/plain": [
       "<Figure size 432x288 with 1 Axes>"
      ]
     },
     "metadata": {
      "needs_background": "light"
     },
     "output_type": "display_data"
    }
   ],
   "source": [
    "#Repeat for the remaining semesters\n",
    "sns.histplot(data = semester_mean.query(\"code_presentation =='2013J'\").last_submission_date, bins = 50)"
   ]
  },
  {
   "cell_type": "code",
   "execution_count": 36,
   "metadata": {},
   "outputs": [
    {
     "data": {
      "text/plain": [
       "NormaltestResult(statistic=25.477741443078415, pvalue=2.9348015512399133e-06)"
      ]
     },
     "execution_count": 36,
     "metadata": {},
     "output_type": "execute_result"
    }
   ],
   "source": [
    "ss.normaltest(semester_mean.query(\"code_presentation =='2013J'\").last_submission_date)"
   ]
  },
  {
   "cell_type": "code",
   "execution_count": 37,
   "metadata": {},
   "outputs": [
    {
     "data": {
      "text/plain": [
       "<matplotlib.axes._subplots.AxesSubplot at 0x7f95b0f3f2b0>"
      ]
     },
     "execution_count": 37,
     "metadata": {},
     "output_type": "execute_result"
    },
    {
     "data": {
      "image/png": "[encoded data removed]",
      "text/plain": [
       "<Figure size 432x288 with 1 Axes>"
      ]
     },
     "metadata": {
      "needs_background": "light"
     },
     "output_type": "display_data"
    }
   ],
   "source": [
    "sns.histplot(data = semester_mean.query(\"code_presentation =='2014B'\").last_submission_date, bins = 50)"
   ]
  },
  {
   "cell_type": "code",
   "execution_count": 38,
   "metadata": {
    "scrolled": true
   },
   "outputs": [
    {
     "data": {
      "text/plain": [
       "NormaltestResult(statistic=598.1212122599628, pvalue=1.3171310960729486e-130)"
      ]
     },
     "execution_count": 38,
     "metadata": {},
     "output_type": "execute_result"
    }
   ],
   "source": [
    "ss.normaltest(semester_mean.query(\"code_presentation =='2014B'\").last_submission_date)"
   ]
  },
  {
   "cell_type": "code",
   "execution_count": 39,
   "metadata": {},
   "outputs": [
    {
     "data": {
      "text/plain": [
       "<matplotlib.axes._subplots.AxesSubplot at 0x7f95b0e33dd8>"
      ]
     },
     "execution_count": 39,
     "metadata": {},
     "output_type": "execute_result"
    },
    {
     "data": {
      "image/png": "[encoded data removed]",
      "text/plain": [
       "<Figure size 432x288 with 1 Axes>"
      ]
     },
     "metadata": {
      "needs_background": "light"
     },
     "output_type": "display_data"
    }
   ],
   "source": [
    "sns.histplot(data = semester_mean.query(\"code_presentation =='2014J'\").last_submission_date, bins = 50)"
   ]
  },
  {
   "cell_type": "code",
   "execution_count": 40,
   "metadata": {},
   "outputs": [
    {
     "data": {
      "text/plain": [
       "NormaltestResult(statistic=2873.9359408601913, pvalue=0.0)"
      ]
     },
     "execution_count": 40,
     "metadata": {},
     "output_type": "execute_result"
    }
   ],
   "source": [
    "ss.normaltest(semester_mean.query(\"code_presentation =='2014J'\").last_submission_date)"
   ]
  },
  {
   "cell_type": "code",
   "execution_count": 41,
   "metadata": {},
   "outputs": [
    {
     "data": {
      "text/html": [
       "<div>\n",
       "<style scoped>\n",
       "    .dataframe tbody tr th:only-of-type {\n",
       "        vertical-align: middle;\n",
       "    }\n",
       "\n",
       "    .dataframe tbody tr th {\n",
       "        vertical-align: top;\n",
       "    }\n",
       "\n",
       "    .dataframe thead th {\n",
       "        text-align: right;\n",
       "    }\n",
       "</style>\n",
       "<table border=\"1\" class=\"dataframe\">\n",
       "  <thead>\n",
       "    <tr style=\"text-align: right;\">\n",
       "      <th></th>\n",
       "      <th>code_presentation</th>\n",
       "      <th>median_days</th>\n",
       "    </tr>\n",
       "  </thead>\n",
       "  <tbody>\n",
       "    <tr>\n",
       "      <th>0</th>\n",
       "      <td>2013B</td>\n",
       "      <td>230</td>\n",
       "    </tr>\n",
       "    <tr>\n",
       "      <th>2</th>\n",
       "      <td>2014B</td>\n",
       "      <td>234</td>\n",
       "    </tr>\n",
       "    <tr>\n",
       "      <th>1</th>\n",
       "      <td>2013J</td>\n",
       "      <td>241</td>\n",
       "    </tr>\n",
       "    <tr>\n",
       "      <th>3</th>\n",
       "      <td>2014J</td>\n",
       "      <td>244</td>\n",
       "    </tr>\n",
       "  </tbody>\n",
       "</table>\n",
       "</div>"
      ],
      "text/plain": [
       "  code_presentation  median_days\n",
       "0             2013B          230\n",
       "2             2014B          234\n",
       "1             2013J          241\n",
       "3             2014J          244"
      ]
     },
     "execution_count": 41,
     "metadata": {},
     "output_type": "execute_result"
    }
   ],
   "source": [
    "#The data don't follow normal distribution, so I will group by code_presentation,and calculate median\n",
    "semester_time = semester_mean.groupby('code_presentation', as_index=False)\\\n",
    ".agg(median_days=('last_submission_date', 'median'))\n",
    "semester_time ['median_days'] =  semester_time.median_days.round(2)\n",
    "semester_time.sort_values('median_days')"
   ]
  },
  {
   "cell_type": "markdown",
   "metadata": {},
   "source": [
    "**Answer to the question 5** The semester with the lowest completion rate (0.84) and with the longest completion times (median = 230) - 2013B"
   ]
  }
 ],
 "metadata": {
  "kernelspec": {
   "display_name": "Python 3",
   "language": "python",
   "name": "python3"
  },
  "language_info": {
   "codemirror_mode": {
    "name": "ipython",
    "version": 3
   },
   "file_extension": ".py",
   "mimetype": "text/x-python",
   "name": "python",
   "nbconvert_exporter": "python",
   "pygments_lexer": "ipython3",
   "version": "3.7.3"
  }
 },
 "nbformat": 4,
 "nbformat_minor": 4
}
