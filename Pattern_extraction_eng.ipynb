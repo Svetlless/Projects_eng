{
 "cells": [
  {
   "cell_type": "code",
   "execution_count": 103,
   "id": "cb27b417-7664-4381-b673-c5b4209aac1f",
   "metadata": {},
   "outputs": [],
   "source": [
    "import pandas as pd\n"    
   ]
  },
  {
   "cell_type": "code",
   "execution_count": 104,
   "id": "4705eda4-2a6d-42ec-a8a6-b490b766702a",
   "metadata": {},
   "outputs": [],
   "source": [
    "df = pd.read_csv(\"D:\\\\Excel\\\\Артикул.csv\", sep = ';')"
   ]
  },
  {
   "cell_type": "code",
   "execution_count": 105,
   "id": "aca4af4d-5af8-4d0b-a6dd-d0f84dc3a0a7",
   "metadata": {},
   "outputs": [],
   "source": [
    "df=df.rename(columns={'Номенклатура':'product_name'})"
   ]
  },
  {
   "cell_type": "code",
   "execution_count": 106,
   "id": "b30b7821-156d-43ea-a128-988d320ab042",
   "metadata": {},
   "outputs": [],
   "source": [
    "df=df[['product_name']]"
   ]
  },
  {
   "cell_type": "code",
   "execution_count": 107,
   "id": "e592be35-ae03-4ad8-8b9e-04e2f436d757",
   "metadata": {},
   "outputs": [
    {
     "name": "stdout",
     "output_type": "stream",
     "text": [
      "<class 'pandas.core.frame.DataFrame'>\n",
      "RangeIndex: 9 entries, 0 to 8\n",
      "Data columns (total 1 columns):\n",
      " #   Column        Non-Null Count  Dtype \n",
      "---  ------        --------------  ----- \n",
      " 0   product_name  9 non-null      object\n",
      "dtypes: object(1)\n",
      "memory usage: 204.0+ bytes\n"
     ]
    }
   ],
   "source": [
    "df.info()"
   ]
  },
  {
   "cell_type": "code",
   "execution_count": 108,
   "id": "0c71cdb5-8960-4e62-8285-abe0cbef322a",
   "metadata": {},
   "outputs": [
    {
     "data": {
      "text/html": [
       "<div>\n",
       "<style scoped>\n",
       "    .dataframe tbody tr th:only-of-type {\n",
       "        vertical-align: middle;\n",
       "    }\n",
       "\n",
       "    .dataframe tbody tr th {\n",
       "        vertical-align: top;\n",
       "    }\n",
       "\n",
       "    .dataframe thead th {\n",
       "        text-align: right;\n",
       "    }\n",
       "</style>\n",
       "<table border=\"1\" class=\"dataframe\">\n",
       "  <thead>\n",
       "    <tr style=\"text-align: right;\">\n",
       "      <th></th>\n",
       "      <th>product_name</th>\n",
       "    </tr>\n",
       "  </thead>\n",
       "  <tbody>\n",
       "    <tr>\n",
       "      <th>0</th>\n",
       "      <td>Фольга №342123 Toppits</td>\n",
       "    </tr>\n",
       "    <tr>\n",
       "      <th>1</th>\n",
       "      <td>Пакеты №355643 Gram</td>\n",
       "    </tr>\n",
       "    <tr>\n",
       "      <th>2</th>\n",
       "      <td>Коврик для посуды №437832 Marmiton</td>\n",
       "    </tr>\n",
       "    <tr>\n",
       "      <th>3</th>\n",
       "      <td>Салфетки №548746 Familia</td>\n",
       "    </tr>\n",
       "    <tr>\n",
       "      <th>4</th>\n",
       "      <td>Пакеты №7465729 PrimaPack</td>\n",
       "    </tr>\n",
       "  </tbody>\n",
       "</table>\n",
       "</div>"
      ],
      "text/plain": [
       "                         product_name\n",
       "0              Фольга №342123 Toppits\n",
       "1                 Пакеты №355643 Gram\n",
       "2  Коврик для посуды №437832 Marmiton\n",
       "3            Салфетки №548746 Familia\n",
       "4           Пакеты №7465729 PrimaPack"
      ]
     },
     "execution_count": 108,
     "metadata": {},
     "output_type": "execute_result"
    }
   ],
   "source": [
    "df.head()"
   ]
  },
  {
   "cell_type": "code",
   "execution_count": 109,
   "id": "d7ad0536-c754-45b6-9343-2f433a4cb0a2",
   "metadata": {},
   "outputs": [],
   "source": [
    "df['number']=df.product_name.str.extract(r'(\\d+)') #sequence of numbers"
   ]
  },
  {
   "cell_type": "code",
   "execution_count": 110,
   "id": "bc4ad33a-c0d6-4c3e-b728-fad946594390",
   "metadata": {},
   "outputs": [],
   "source": [
    "df['full_number']=df.product_name.str.extract(r'(№\\d+)') #sequence of numbers + № "
   ]
  },
  {
   "cell_type": "code",
   "execution_count": 111,
   "id": "6f11a3c2-2aeb-4a21-a9b3-a365e492efd4",
   "metadata": {},
   "outputs": [],
   "source": [
    "df['latin_letters'] = df['product_name'].str.extract(r'([A-Za-z]+)') #brand name - sequence of english letters"
   ]
  },
  {
   "cell_type": "code",
   "execution_count": 112,
   "id": "2f95b5da-69cb-4bdd-b138-30eaec15b28a",
   "metadata": {},
   "outputs": [],
   "source": [
    "df['Type']=df.product_name.str.split(\" \").str[0] #the first element of a string - product type"
   ]
  },
  {
   "cell_type": "code",
   "execution_count": 113,
   "id": "1b16b6cd-fc69-46aa-85c7-dd27b687d67f",
   "metadata": {},
   "outputs": [
    {
     "data": {
      "text/html": [
       "<div>\n",
       "<style scoped>\n",
       "    .dataframe tbody tr th:only-of-type {\n",
       "        vertical-align: middle;\n",
       "    }\n",
       "\n",
       "    .dataframe tbody tr th {\n",
       "        vertical-align: top;\n",
       "    }\n",
       "\n",
       "    .dataframe thead th {\n",
       "        text-align: right;\n",
       "    }\n",
       "</style>\n",
       "<table border=\"1\" class=\"dataframe\">\n",
       "  <thead>\n",
       "    <tr style=\"text-align: right;\">\n",
       "      <th></th>\n",
       "      <th>product_name</th>\n",
       "      <th>number</th>\n",
       "      <th>full_number</th>\n",
       "      <th>latin_letters</th>\n",
       "      <th>Type</th>\n",
       "    </tr>\n",
       "  </thead>\n",
       "  <tbody>\n",
       "    <tr>\n",
       "      <th>0</th>\n",
       "      <td>Фольга №342123 Toppits</td>\n",
       "      <td>342123</td>\n",
       "      <td>№342123</td>\n",
       "      <td>Toppits</td>\n",
       "      <td>Фольга</td>\n",
       "    </tr>\n",
       "    <tr>\n",
       "      <th>1</th>\n",
       "      <td>Пакеты №355643 Gram</td>\n",
       "      <td>355643</td>\n",
       "      <td>№355643</td>\n",
       "      <td>Gram</td>\n",
       "      <td>Пакеты</td>\n",
       "    </tr>\n",
       "    <tr>\n",
       "      <th>2</th>\n",
       "      <td>Коврик для посуды №437832 Marmiton</td>\n",
       "      <td>437832</td>\n",
       "      <td>№437832</td>\n",
       "      <td>Marmiton</td>\n",
       "      <td>Коврик</td>\n",
       "    </tr>\n",
       "    <tr>\n",
       "      <th>3</th>\n",
       "      <td>Салфетки №548746 Familia</td>\n",
       "      <td>548746</td>\n",
       "      <td>№548746</td>\n",
       "      <td>Familia</td>\n",
       "      <td>Салфетки</td>\n",
       "    </tr>\n",
       "    <tr>\n",
       "      <th>4</th>\n",
       "      <td>Пакеты №7465729 PrimaPack</td>\n",
       "      <td>7465729</td>\n",
       "      <td>№7465729</td>\n",
       "      <td>PrimaPack</td>\n",
       "      <td>Пакеты</td>\n",
       "    </tr>\n",
       "    <tr>\n",
       "      <th>5</th>\n",
       "      <td>Пакеты №8747236 Paclan для запекания с жаропро...</td>\n",
       "      <td>8747236</td>\n",
       "      <td>№8747236</td>\n",
       "      <td>Paclan</td>\n",
       "      <td>Пакеты</td>\n",
       "    </tr>\n",
       "    <tr>\n",
       "      <th>6</th>\n",
       "      <td>Пакеты №764724 Paterra для хранения</td>\n",
       "      <td>764724</td>\n",
       "      <td>№764724</td>\n",
       "      <td>Paterra</td>\n",
       "      <td>Пакеты</td>\n",
       "    </tr>\n",
       "    <tr>\n",
       "      <th>7</th>\n",
       "      <td>Фольга №7473628 Toppits алюминиевая особо проч...</td>\n",
       "      <td>7473628</td>\n",
       "      <td>№7473628</td>\n",
       "      <td>Toppits</td>\n",
       "      <td>Фольга</td>\n",
       "    </tr>\n",
       "    <tr>\n",
       "      <th>8</th>\n",
       "      <td>Емкость №8674872 Pasabahce для варенья и меда</td>\n",
       "      <td>8674872</td>\n",
       "      <td>№8674872</td>\n",
       "      <td>Pasabahce</td>\n",
       "      <td>Емкость</td>\n",
       "    </tr>\n",
       "  </tbody>\n",
       "</table>\n",
       "</div>"
      ],
      "text/plain": [
       "                                        product_name   number full_number  \\\n",
       "0                             Фольга №342123 Toppits   342123     №342123   \n",
       "1                                Пакеты №355643 Gram   355643     №355643   \n",
       "2                 Коврик для посуды №437832 Marmiton   437832     №437832   \n",
       "3                           Салфетки №548746 Familia   548746     №548746   \n",
       "4                          Пакеты №7465729 PrimaPack  7465729    №7465729   \n",
       "5  Пакеты №8747236 Paclan для запекания с жаропро...  8747236    №8747236   \n",
       "6                Пакеты №764724 Paterra для хранения   764724     №764724   \n",
       "7  Фольга №7473628 Toppits алюминиевая особо проч...  7473628    №7473628   \n",
       "8      Емкость №8674872 Pasabahce для варенья и меда  8674872    №8674872   \n",
       "\n",
       "  latin_letters      Type  \n",
       "0       Toppits    Фольга  \n",
       "1          Gram    Пакеты  \n",
       "2      Marmiton    Коврик  \n",
       "3       Familia  Салфетки  \n",
       "4     PrimaPack    Пакеты  \n",
       "5        Paclan    Пакеты  \n",
       "6       Paterra    Пакеты  \n",
       "7       Toppits    Фольга  \n",
       "8     Pasabahce   Емкость  "
      ]
     },
     "execution_count": 113,
     "metadata": {},
     "output_type": "execute_result"
    }
   ],
   "source": [
    "df"
   ]
  }
 ],
 "metadata": {
  "kernelspec": {
   "display_name": "Python 3 (ipykernel)",
   "language": "python",
   "name": "python3"
  },
  "language_info": {
   "codemirror_mode": {
    "name": "ipython",
    "version": 3
   },
   "file_extension": ".py",
   "mimetype": "text/x-python",
   "name": "python",
   "nbconvert_exporter": "python",
   "pygments_lexer": "ipython3",
   "version": "3.12.4"
  }
 },
 "nbformat": 4,
 "nbformat_minor": 5
}
