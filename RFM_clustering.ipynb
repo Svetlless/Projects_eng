{
 "cells": [
  {
   "cell_type": "markdown",
   "metadata": {},
   "source": [
    "Download the dataset and run RFM analysis. In each subsegment, divide users into 4 classes. Count the number of days since the last purchase from the maximum purchase date in the dataset.\n",
    "\n",
    "**You need to answer the following questions:**\n",
    "\n",
    "What is the maximum number of purchases made by one user?\n",
    "\n",
    "What is the upper limit for the amount of purchases for users with class 4 in subsegment M? (In other words: users with a purchase amount from 0 to X fall into class 4 in subsegment M)?\n",
    "\n",
    "What is the lower limit for the number of purchases for users with class 1 in subsegment F?\n",
    "\n",
    "What is the upper limit for the number of purchases for users with class 2 in subsegment R?\n",
    "\n",
    "How many users are in segment 111?\n",
    "\n",
    "How many users are in segment 311?\n",
    "\n",
    "Which RFM segment has the largest number of users?\n",
    "\n",
    "Which RFM segment has the smallest number of users? How many users fall into the smallest segment?"
   ]
  },
  {
   "cell_type": "code",
   "execution_count": 1,
   "metadata": {},
   "outputs": [],
   "source": [
    "import pandas as pd\n",
    "import numpy as np"
   ]
  },
  {
   "cell_type": "code",
   "execution_count": 2,
   "metadata": {},
   "outputs": [],
   "source": [
    "df = pd.read_csv('RFM_ht_data.csv',  parse_dates=['InvoiceDate'],  low_memory=False)\n",
    "#without the low_memory=False parameter, there was a warning about mixed data type"
   ]
  },
  {
   "cell_type": "code",
   "execution_count": 3,
   "metadata": {},
   "outputs": [
    {
     "data": {
      "text/html": [
       "<div>\n",
       "<style scoped>\n",
       "    .dataframe tbody tr th:only-of-type {\n",
       "        vertical-align: middle;\n",
       "    }\n",
       "\n",
       "    .dataframe tbody tr th {\n",
       "        vertical-align: top;\n",
       "    }\n",
       "\n",
       "    .dataframe thead th {\n",
       "        text-align: right;\n",
       "    }\n",
       "</style>\n",
       "<table border=\"1\" class=\"dataframe\">\n",
       "  <thead>\n",
       "    <tr style=\"text-align: right;\">\n",
       "      <th></th>\n",
       "      <th>InvoiceNo</th>\n",
       "      <th>CustomerCode</th>\n",
       "      <th>InvoiceDate</th>\n",
       "      <th>Amount</th>\n",
       "    </tr>\n",
       "  </thead>\n",
       "  <tbody>\n",
       "    <tr>\n",
       "      <th>0</th>\n",
       "      <td>C0011810010001</td>\n",
       "      <td>19067290</td>\n",
       "      <td>2020-09-01</td>\n",
       "      <td>1716.00</td>\n",
       "    </tr>\n",
       "    <tr>\n",
       "      <th>1</th>\n",
       "      <td>C0011810010017</td>\n",
       "      <td>13233933</td>\n",
       "      <td>2020-09-01</td>\n",
       "      <td>1489.74</td>\n",
       "    </tr>\n",
       "    <tr>\n",
       "      <th>2</th>\n",
       "      <td>C0011810010020</td>\n",
       "      <td>99057968</td>\n",
       "      <td>2020-09-01</td>\n",
       "      <td>151.47</td>\n",
       "    </tr>\n",
       "    <tr>\n",
       "      <th>3</th>\n",
       "      <td>C0011810010021</td>\n",
       "      <td>80007276</td>\n",
       "      <td>2020-09-01</td>\n",
       "      <td>146.72</td>\n",
       "    </tr>\n",
       "    <tr>\n",
       "      <th>4</th>\n",
       "      <td>C0011810010024</td>\n",
       "      <td>13164076</td>\n",
       "      <td>2020-09-01</td>\n",
       "      <td>104.00</td>\n",
       "    </tr>\n",
       "  </tbody>\n",
       "</table>\n",
       "</div>"
      ],
      "text/plain": [
       "        InvoiceNo CustomerCode InvoiceDate   Amount\n",
       "0  C0011810010001     19067290  2020-09-01  1716.00\n",
       "1  C0011810010017     13233933  2020-09-01  1489.74\n",
       "2  C0011810010020     99057968  2020-09-01   151.47\n",
       "3  C0011810010021     80007276  2020-09-01   146.72\n",
       "4  C0011810010024     13164076  2020-09-01   104.00"
      ]
     },
     "execution_count": 3,
     "metadata": {},
     "output_type": "execute_result"
    }
   ],
   "source": [
    "df.head()"
   ]
  },
  {
   "cell_type": "code",
   "execution_count": 4,
   "metadata": {},
   "outputs": [
    {
     "name": "stdout",
     "output_type": "stream",
     "text": [
      "<class 'pandas.core.frame.DataFrame'>\n",
      "RangeIndex: 332730 entries, 0 to 332729\n",
      "Data columns (total 4 columns):\n",
      " #   Column        Non-Null Count   Dtype         \n",
      "---  ------        --------------   -----         \n",
      " 0   InvoiceNo     332730 non-null  object        \n",
      " 1   CustomerCode  332730 non-null  object        \n",
      " 2   InvoiceDate   332730 non-null  datetime64[ns]\n",
      " 3   Amount        332730 non-null  float64       \n",
      "dtypes: datetime64[ns](1), float64(1), object(2)\n",
      "memory usage: 10.2+ MB\n"
     ]
    }
   ],
   "source": [
    "df.info()"
   ]
  },
  {
   "cell_type": "code",
   "execution_count": 5,
   "metadata": {},
   "outputs": [],
   "source": [
    "#Calculating the maximum invoice date in the dataset\n",
    "last_date = df.InvoiceDate.max()"
   ]
  },
  {
   "cell_type": "code",
   "execution_count": 6,
   "metadata": {},
   "outputs": [
    {
     "data": {
      "text/plain": [
       "Timestamp('2020-09-30 00:00:00')"
      ]
     },
     "execution_count": 6,
     "metadata": {},
     "output_type": "execute_result"
    }
   ],
   "source": [
    "last_date"
   ]
  },
  {
   "cell_type": "code",
   "execution_count": 7,
   "metadata": {},
   "outputs": [],
   "source": [
    "#Creating the dataframe with the RFM metrics for each user\n",
    "RFM_data = df.groupby('CustomerCode')\\\n",
    ".agg(Recency = ('InvoiceDate', lambda x: (last_date - x.max()).days)\\\n",
    "     , Frequency = ('InvoiceNo', 'nunique'), Monetary=('Amount','sum')).reset_index()"
   ]
  },
  {
   "cell_type": "code",
   "execution_count": 8,
   "metadata": {},
   "outputs": [
    {
     "data": {
      "text/html": [
       "<div>\n",
       "<style scoped>\n",
       "    .dataframe tbody tr th:only-of-type {\n",
       "        vertical-align: middle;\n",
       "    }\n",
       "\n",
       "    .dataframe tbody tr th {\n",
       "        vertical-align: top;\n",
       "    }\n",
       "\n",
       "    .dataframe thead th {\n",
       "        text-align: right;\n",
       "    }\n",
       "</style>\n",
       "<table border=\"1\" class=\"dataframe\">\n",
       "  <thead>\n",
       "    <tr style=\"text-align: right;\">\n",
       "      <th></th>\n",
       "      <th>CustomerCode</th>\n",
       "      <th>Recency</th>\n",
       "      <th>Frequency</th>\n",
       "      <th>Monetary</th>\n",
       "    </tr>\n",
       "  </thead>\n",
       "  <tbody>\n",
       "    <tr>\n",
       "      <th>0</th>\n",
       "      <td>02213019</td>\n",
       "      <td>19</td>\n",
       "      <td>1</td>\n",
       "      <td>1609.20</td>\n",
       "    </tr>\n",
       "    <tr>\n",
       "      <th>1</th>\n",
       "      <td>02213042</td>\n",
       "      <td>22</td>\n",
       "      <td>3</td>\n",
       "      <td>9685.48</td>\n",
       "    </tr>\n",
       "    <tr>\n",
       "      <th>2</th>\n",
       "      <td>02213071</td>\n",
       "      <td>29</td>\n",
       "      <td>1</td>\n",
       "      <td>415.00</td>\n",
       "    </tr>\n",
       "    <tr>\n",
       "      <th>3</th>\n",
       "      <td>02213088</td>\n",
       "      <td>23</td>\n",
       "      <td>1</td>\n",
       "      <td>305.00</td>\n",
       "    </tr>\n",
       "    <tr>\n",
       "      <th>4</th>\n",
       "      <td>02213092</td>\n",
       "      <td>25</td>\n",
       "      <td>1</td>\n",
       "      <td>1412.88</td>\n",
       "    </tr>\n",
       "    <tr>\n",
       "      <th>...</th>\n",
       "      <td>...</td>\n",
       "      <td>...</td>\n",
       "      <td>...</td>\n",
       "      <td>...</td>\n",
       "    </tr>\n",
       "    <tr>\n",
       "      <th>123728</th>\n",
       "      <td>99099927</td>\n",
       "      <td>10</td>\n",
       "      <td>1</td>\n",
       "      <td>961.10</td>\n",
       "    </tr>\n",
       "    <tr>\n",
       "      <th>123729</th>\n",
       "      <td>99099936</td>\n",
       "      <td>0</td>\n",
       "      <td>1</td>\n",
       "      <td>1521.78</td>\n",
       "    </tr>\n",
       "    <tr>\n",
       "      <th>123730</th>\n",
       "      <td>99099959</td>\n",
       "      <td>8</td>\n",
       "      <td>2</td>\n",
       "      <td>1444.56</td>\n",
       "    </tr>\n",
       "    <tr>\n",
       "      <th>123731</th>\n",
       "      <td>99099963</td>\n",
       "      <td>19</td>\n",
       "      <td>1</td>\n",
       "      <td>3018.91</td>\n",
       "    </tr>\n",
       "    <tr>\n",
       "      <th>123732</th>\n",
       "      <td>99099972</td>\n",
       "      <td>0</td>\n",
       "      <td>2</td>\n",
       "      <td>4577.37</td>\n",
       "    </tr>\n",
       "  </tbody>\n",
       "</table>\n",
       "<p>123733 rows × 4 columns</p>\n",
       "</div>"
      ],
      "text/plain": [
       "       CustomerCode  Recency  Frequency  Monetary\n",
       "0          02213019       19          1   1609.20\n",
       "1          02213042       22          3   9685.48\n",
       "2          02213071       29          1    415.00\n",
       "3          02213088       23          1    305.00\n",
       "4          02213092       25          1   1412.88\n",
       "...             ...      ...        ...       ...\n",
       "123728     99099927       10          1    961.10\n",
       "123729     99099936        0          1   1521.78\n",
       "123730     99099959        8          2   1444.56\n",
       "123731     99099963       19          1   3018.91\n",
       "123732     99099972        0          2   4577.37\n",
       "\n",
       "[123733 rows x 4 columns]"
      ]
     },
     "execution_count": 8,
     "metadata": {},
     "output_type": "execute_result"
    }
   ],
   "source": [
    "RFM_data"
   ]
  },
  {
   "cell_type": "markdown",
   "metadata": {},
   "source": [
    "**What is the maximum number of purchases made by one user?**"
   ]
  },
  {
   "cell_type": "code",
   "execution_count": 9,
   "metadata": {},
   "outputs": [
    {
     "name": "stdout",
     "output_type": "stream",
     "text": [
      " The maximum number of purchases is 204\n"
     ]
    }
   ],
   "source": [
    "print(f' The maximum number of purchases is {RFM_data.Frequency.max()}')"
   ]
  },
  {
   "cell_type": "code",
   "execution_count": 10,
   "metadata": {},
   "outputs": [],
   "source": [
    "#Let's comtinue to calculate RFM-segments\n",
    "#Let's calculate quantiles\n",
    "rfm_quantiles = RFM_data[['Recency', 'Monetary', 'Frequency']].quantile(q=(0.25, 0.5, 0.75))"
   ]
  },
  {
   "cell_type": "code",
   "execution_count": 11,
   "metadata": {},
   "outputs": [
    {
     "data": {
      "text/html": [
       "<div>\n",
       "<style scoped>\n",
       "    .dataframe tbody tr th:only-of-type {\n",
       "        vertical-align: middle;\n",
       "    }\n",
       "\n",
       "    .dataframe tbody tr th {\n",
       "        vertical-align: top;\n",
       "    }\n",
       "\n",
       "    .dataframe thead th {\n",
       "        text-align: right;\n",
       "    }\n",
       "</style>\n",
       "<table border=\"1\" class=\"dataframe\">\n",
       "  <thead>\n",
       "    <tr style=\"text-align: right;\">\n",
       "      <th></th>\n",
       "      <th>Recency</th>\n",
       "      <th>Monetary</th>\n",
       "      <th>Frequency</th>\n",
       "    </tr>\n",
       "  </thead>\n",
       "  <tbody>\n",
       "    <tr>\n",
       "      <th>0.25</th>\n",
       "      <td>2.0</td>\n",
       "      <td>765.00</td>\n",
       "      <td>1.0</td>\n",
       "    </tr>\n",
       "    <tr>\n",
       "      <th>0.50</th>\n",
       "      <td>8.0</td>\n",
       "      <td>1834.48</td>\n",
       "      <td>2.0</td>\n",
       "    </tr>\n",
       "    <tr>\n",
       "      <th>0.75</th>\n",
       "      <td>16.0</td>\n",
       "      <td>4008.84</td>\n",
       "      <td>3.0</td>\n",
       "    </tr>\n",
       "  </tbody>\n",
       "</table>\n",
       "</div>"
      ],
      "text/plain": [
       "      Recency  Monetary  Frequency\n",
       "0.25      2.0    765.00        1.0\n",
       "0.50      8.0   1834.48        2.0\n",
       "0.75     16.0   4008.84        3.0"
      ]
     },
     "execution_count": 11,
     "metadata": {},
     "output_type": "execute_result"
    }
   ],
   "source": [
    "rfm_quantiles"
   ]
  },
  {
   "cell_type": "code",
   "execution_count": 12,
   "metadata": {},
   "outputs": [],
   "source": [
    "#Let's write a function that will assign a rank depending on the quantile\n",
    "#According to the task, better indicators correspond to a lower rank\n",
    "def RClass(value,parameter_name, quantiles_table):\n",
    "    if value <= quantiles_table[parameter_name][0.25]:\n",
    "        return 1\n",
    "    elif value <= quantiles_table[parameter_name][0.50]:\n",
    "        return 2\n",
    "    elif value <= quantiles_table[parameter_name][0.75]: \n",
    "        return 3\n",
    "    else:\n",
    "        return 4\n",
    "\n",
    "\n",
    "def FMClass(value, parameter_name,quantiles_table):\n",
    "    if value <= quantiles_table[parameter_name][0.25]:\n",
    "        return 4\n",
    "    elif value <= quantiles_table[parameter_name][0.50]:\n",
    "        return 3\n",
    "    elif value <= quantiles_table[parameter_name][0.75]: \n",
    "        return 2\n",
    "    else:\n",
    "        return 1"
   ]
  },
  {
   "cell_type": "code",
   "execution_count": 13,
   "metadata": {},
   "outputs": [],
   "source": [
    "#Adding columns to the dataset using the function\n",
    "RFM_data['R_Quartile'] = RFM_data['Recency'].apply(lambda x: RClass(x, 'Recency', rfm_quantiles))\n",
    "\n",
    "RFM_data['F_Quartile'] = RFM_data['Frequency'].apply(lambda x: FMClass (x, 'Frequency', rfm_quantiles))\n",
    "\n",
    "RFM_data['M_Quartile'] = RFM_data['Monetary'].apply(lambda x: FMClass (x, 'Monetary', rfm_quantiles))\n",
    "\n",
    "RFM_data['RFMClass'] = RFM_data[['R_Quartile', 'F_Quartile', 'M_Quartile']].astype(str).apply(''.join, axis=1)"
   ]
  },
  {
   "cell_type": "code",
   "execution_count": 14,
   "metadata": {},
   "outputs": [
    {
     "data": {
      "text/html": [
       "<div>\n",
       "<style scoped>\n",
       "    .dataframe tbody tr th:only-of-type {\n",
       "        vertical-align: middle;\n",
       "    }\n",
       "\n",
       "    .dataframe tbody tr th {\n",
       "        vertical-align: top;\n",
       "    }\n",
       "\n",
       "    .dataframe thead th {\n",
       "        text-align: right;\n",
       "    }\n",
       "</style>\n",
       "<table border=\"1\" class=\"dataframe\">\n",
       "  <thead>\n",
       "    <tr style=\"text-align: right;\">\n",
       "      <th></th>\n",
       "      <th>CustomerCode</th>\n",
       "      <th>Recency</th>\n",
       "      <th>Frequency</th>\n",
       "      <th>Monetary</th>\n",
       "      <th>R_Quartile</th>\n",
       "      <th>F_Quartile</th>\n",
       "      <th>M_Quartile</th>\n",
       "      <th>RFMClass</th>\n",
       "    </tr>\n",
       "  </thead>\n",
       "  <tbody>\n",
       "    <tr>\n",
       "      <th>0</th>\n",
       "      <td>02213019</td>\n",
       "      <td>19</td>\n",
       "      <td>1</td>\n",
       "      <td>1609.20</td>\n",
       "      <td>4</td>\n",
       "      <td>4</td>\n",
       "      <td>3</td>\n",
       "      <td>443</td>\n",
       "    </tr>\n",
       "    <tr>\n",
       "      <th>1</th>\n",
       "      <td>02213042</td>\n",
       "      <td>22</td>\n",
       "      <td>3</td>\n",
       "      <td>9685.48</td>\n",
       "      <td>4</td>\n",
       "      <td>2</td>\n",
       "      <td>1</td>\n",
       "      <td>421</td>\n",
       "    </tr>\n",
       "    <tr>\n",
       "      <th>2</th>\n",
       "      <td>02213071</td>\n",
       "      <td>29</td>\n",
       "      <td>1</td>\n",
       "      <td>415.00</td>\n",
       "      <td>4</td>\n",
       "      <td>4</td>\n",
       "      <td>4</td>\n",
       "      <td>444</td>\n",
       "    </tr>\n",
       "    <tr>\n",
       "      <th>3</th>\n",
       "      <td>02213088</td>\n",
       "      <td>23</td>\n",
       "      <td>1</td>\n",
       "      <td>305.00</td>\n",
       "      <td>4</td>\n",
       "      <td>4</td>\n",
       "      <td>4</td>\n",
       "      <td>444</td>\n",
       "    </tr>\n",
       "    <tr>\n",
       "      <th>4</th>\n",
       "      <td>02213092</td>\n",
       "      <td>25</td>\n",
       "      <td>1</td>\n",
       "      <td>1412.88</td>\n",
       "      <td>4</td>\n",
       "      <td>4</td>\n",
       "      <td>3</td>\n",
       "      <td>443</td>\n",
       "    </tr>\n",
       "  </tbody>\n",
       "</table>\n",
       "</div>"
      ],
      "text/plain": [
       "  CustomerCode  Recency  Frequency  Monetary  R_Quartile  F_Quartile  \\\n",
       "0     02213019       19          1   1609.20           4           4   \n",
       "1     02213042       22          3   9685.48           4           2   \n",
       "2     02213071       29          1    415.00           4           4   \n",
       "3     02213088       23          1    305.00           4           4   \n",
       "4     02213092       25          1   1412.88           4           4   \n",
       "\n",
       "   M_Quartile RFMClass  \n",
       "0           3      443  \n",
       "1           1      421  \n",
       "2           4      444  \n",
       "3           4      444  \n",
       "4           3      443  "
      ]
     },
     "execution_count": 14,
     "metadata": {},
     "output_type": "execute_result"
    }
   ],
   "source": [
    "RFM_data.head()"
   ]
  },
  {
   "cell_type": "markdown",
   "metadata": {},
   "source": [
    "**hat is the upper bound for the number of purchases of users with class 4 in subsegment M? (In other words: users with the number of purchases  from 0 to X fall into class 4 in subsegment M)?**"
   ]
  },
  {
   "cell_type": "code",
   "execution_count": 17,
   "metadata": {},
   "outputs": [
    {
     "name": "stdout",
     "output_type": "stream",
     "text": [
      "Answer: 765.0\n"
     ]
    }
   ],
   "source": [
    "print(f'Answer: {rfm_quantiles.Monetary[0.25]}')"
   ]
  },
  {
   "cell_type": "markdown",
   "metadata": {},
   "source": [
    "**What is the lower bound of the number of purchases from class 1 users in subsegment F?**"
   ]
  },
  {
   "cell_type": "code",
   "execution_count": 16,
   "metadata": {},
   "outputs": [
    {
     "name": "stdout",
     "output_type": "stream",
     "text": [
      "Answer: 4.0\n"
     ]
    }
   ],
   "source": [
    "print(f'Answer: {rfm_quantiles.Frequency[0.75]+1}') #as the 75-th percentile is in the previous class"
   ]
  },
  {
   "cell_type": "markdown",
   "metadata": {},
   "source": [
    "**What is the upper bound for the number of purchases of users with class 2 in subsegment R?**"
   ]
  },
  {
   "cell_type": "code",
   "execution_count": 18,
   "metadata": {},
   "outputs": [
    {
     "name": "stdout",
     "output_type": "stream",
     "text": [
      "Answer: 8.0\n"
     ]
    }
   ],
   "source": [
    "print(f'Answer: {rfm_quantiles.Recency[0.50]}')"
   ]
  },
  {
   "cell_type": "markdown",
   "metadata": {},
   "source": [
    "**How many users are there in segment 111?**"
   ]
  },
  {
   "cell_type": "code",
   "execution_count": 19,
   "metadata": {},
   "outputs": [],
   "source": [
    "one_one_one = RFM_data.query(\"RFMClass == '111'\").RFMClass.size"
   ]
  },
  {
   "cell_type": "code",
   "execution_count": 20,
   "metadata": {},
   "outputs": [
    {
     "name": "stdout",
     "output_type": "stream",
     "text": [
      "Answer: 9705\n"
     ]
    }
   ],
   "source": [
    "print(f'Answer: {one_one_one}')"
   ]
  },
  {
   "cell_type": "markdown",
   "metadata": {},
   "source": [
    "**How many users are there in segment 311?**"
   ]
  },
  {
   "cell_type": "code",
   "execution_count": 21,
   "metadata": {},
   "outputs": [],
   "source": [
    "three_one_one = RFM_data.query(\"RFMClass == '311'\").RFMClass.size"
   ]
  },
  {
   "cell_type": "code",
   "execution_count": 22,
   "metadata": {},
   "outputs": [
    {
     "name": "stdout",
     "output_type": "stream",
     "text": [
      "Answer: 1609\n"
     ]
    }
   ],
   "source": [
    "print(f'Answer: {three_one_one}')"
   ]
  },
  {
   "cell_type": "markdown",
   "metadata": {},
   "source": [
    "**Which RFM-segment includes the largest number of users?**"
   ]
  },
  {
   "cell_type": "code",
   "execution_count": 23,
   "metadata": {},
   "outputs": [],
   "source": [
    "RFM_number = RFM_data.RFMClass.value_counts().reset_index().rename(columns={'index':'RFMClass','RFMClass':'Number'})"
   ]
  },
  {
   "cell_type": "code",
   "execution_count": 24,
   "metadata": {},
   "outputs": [],
   "source": [
    "RFM_descending = RFM_number.sort_values('Number', ascending = False)"
   ]
  },
  {
   "cell_type": "code",
   "execution_count": 25,
   "metadata": {},
   "outputs": [
    {
     "name": "stdout",
     "output_type": "stream",
     "text": [
      "Answer: 444\n"
     ]
    }
   ],
   "source": [
    "print(f'Answer: {RFM_descending.RFMClass[0]}') "
   ]
  },
  {
   "cell_type": "markdown",
   "metadata": {},
   "source": [
    "**Which RFM-segment includes the lowest number of users?**"
   ]
  },
  {
   "cell_type": "code",
   "execution_count": 27,
   "metadata": {},
   "outputs": [],
   "source": [
    "RFM_ascending = RFM_number.sort_values('Number').reset_index()"
   ]
  },
  {
   "cell_type": "code",
   "execution_count": 28,
   "metadata": {},
   "outputs": [
    {
     "name": "stdout",
     "output_type": "stream",
     "text": [
      "Answer: 414\n"
     ]
    }
   ],
   "source": [
    "print(f'Answer: {RFM_ascending.RFMClass[0]}') "
   ]
  },
  {
   "cell_type": "markdown",
   "metadata": {},
   "source": [
    "**How many users fall into the smallest segment?**"
   ]
  },
  {
   "cell_type": "code",
   "execution_count": 29,
   "metadata": {},
   "outputs": [
    {
     "name": "stdout",
     "output_type": "stream",
     "text": [
      "Answer: 2\n"
     ]
    }
   ],
   "source": [
    "print(f'Answer: {RFM_ascending.Number[0]}') "
   ]
  }
 ],
 "metadata": {
  "kernelspec": {
   "display_name": "Python 3",
   "language": "python",
   "name": "python3"
  },
  "language_info": {
   "codemirror_mode": {
    "name": "ipython",
    "version": 3
   },
   "file_extension": ".py",
   "mimetype": "text/x-python",
   "name": "python",
   "nbconvert_exporter": "python",
   "pygments_lexer": "ipython3",
   "version": "3.7.3"
  }
 },
 "nbformat": 4,
 "nbformat_minor": 4
}
