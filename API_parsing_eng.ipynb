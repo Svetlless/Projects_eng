{
 "cells": [
  {
   "cell_type": "markdown",
   "id": "4d9ac476-e40a-400f-8e99-8359b0d59990",
   "metadata": {},
   "source": [
    "The **task** is to write a script AppData, that will receive an **ID** of the app from iTunes and add the results of the search for each word in the app name to an **sqlite3** database called **apps.db**, in the table **search**. Each row should contain the following fields:\n",
    "\n",
    "**app id**,\n",
    "\n",
    "**word** - the word from a search query,\n",
    "\n",
    "**position** - the position of the app in the iTunes search results by that word,\n",
    "\n",
    "**date** - the date when the script was executed."
   ]
  },
  {
   "cell_type": "code",
   "execution_count": 1,
   "id": "d457919d-7c3c-4cc7-8bd9-31e9bd5d1f2f",
   "metadata": {},
   "outputs": [],
   "source": [
    "import requests as r\n",
    "import sqlite3\n",
    "from datetime import date\n",
    "import re"
   ]
  },
  {
   "cell_type": "code",
   "execution_count": 98,
   "id": "ed090e0d-8280-4665-9430-4e36b8743d27",
   "metadata": {},
   "outputs": [],
   "source": [
    "def AppData (id):\n",
    "    url = f'https://itunes.apple.com/lookup?id={id}' #adding the id to the link\n",
    "    response = r.get(url)\n",
    "    if response.ok:  #checking if the response status is OK (200)\n",
    "        result=response.json()\n",
    "    else:\n",
    "        print (\"Execution failed (search by ID)\")\n",
    "    if 'results' in result and len(result['results']) != 0: #checking that results are not empty\n",
    "        app_name=result['results'][0]['trackName'] #extracting the app name from the results\n",
    "    else:\n",
    "        print(f'Error, data on app ID {id} not found')\n",
    "    words = re.findall(r'\\w+', app_name)  #extracting words from the app name using regex\n",
    "    current_date = date.today().isoformat() #getting the current date in \"yyyy-mm-dd\" format\n",
    "    con = sqlite3.connect(\"apps.db\") #connecting to the database\n",
    "    cur = con.cursor()\n",
    "    #Creating the table if it doesn't exist\n",
    "    cur.execute('''\n",
    "    CREATE TABLE IF NOT EXISTS search (\n",
    "        app_id INTEGER,\n",
    "        word TEXT,\n",
    "        position INTEGER,\n",
    "        date TEXT\n",
    "    )\n",
    "    ''')\n",
    "    for word in words:\n",
    "        prep_and_articles=('in','the','a','and','by','as','at','with','of','for','on','into','to')\n",
    "        #the tuple containing common prepositions and articles to exclude from searches\n",
    "        if word.lower() not in prep_and_articles: \n",
    "            word_url = f'https://itunes.apple.com/search?term={word}&entity=software&limit=200'#by default the limit is 50 pages, I change it to maximum 200\n",
    "            response_search = r.get(word_url)\n",
    "            if response_search.ok:  \n",
    "                result_search=response_search.json()\n",
    "            else:\n",
    "                print (\"Execution failed (search by words)\") \n",
    "            request=word #creating the variable with a word from the app name\n",
    "            position = None #initializing position variable to track app's position in search results \n",
    "            if 'results' in result_search and len(result_search['results']) != 0: \n",
    "                for index, element in enumerate (result_search['results']): \n",
    "                    if element['trackId'] == id: #Finding the position of the app comparing trackId with the provided app ID\n",
    "                        position = index + 1 #since the index starts with 0\n",
    "                        break\n",
    "            else:\n",
    "                print(\"Empty search result\")\n",
    "            obtained_data=[id, word, position, current_date]\n",
    "            cur.execute(\"INSERT INTO search VALUES(?,?,?,?)\", obtained_data) #inserting the data\n",
    "            print(f'Inserted: {obtained_data}')\n",
    "            if position is None:\n",
    "                print(f'App not found for word: {word}') #If position was not found, I print the warning, but add None to the table\n",
    "    con.commit()\n",
    "    con.close()"
   ]
  }
 ],
 "metadata": {
  "kernelspec": {
   "display_name": "Python 3 (ipykernel)",
   "language": "python",
   "name": "python3"
  },
  "language_info": {
   "codemirror_mode": {
    "name": "ipython",
    "version": 3
   },
   "file_extension": ".py",
   "mimetype": "text/x-python",
   "name": "python",
   "nbconvert_exporter": "python",
   "pygments_lexer": "ipython3",
   "version": "3.12.4"
  }
 },
 "nbformat": 4,
 "nbformat_minor": 5
}
